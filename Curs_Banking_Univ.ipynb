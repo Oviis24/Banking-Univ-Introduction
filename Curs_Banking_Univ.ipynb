{
  "cells": [
    {
      "cell_type": "markdown",
      "id": "07f6b216-7fe5-474c-b349-2f16ec405da0",
      "metadata": {
        "tags": [],
        "id": "07f6b216-7fe5-474c-b349-2f16ec405da0"
      },
      "source": [
        "# 1. Introducere: Clasificare în Machine Learning"
      ]
    },
    {
      "cell_type": "markdown",
      "id": "60f32c69-3179-42e3-a774-a26cc81527d8",
      "metadata": {
        "tags": [],
        "id": "60f32c69-3179-42e3-a774-a26cc81527d8"
      },
      "source": [
        "## 1. Ce este clasificarea?"
      ]
    },
    {
      "cell_type": "markdown",
      "id": "0c32adc8-64f8-42aa-8504-7d6fec422abe",
      "metadata": {
        "tags": [],
        "id": "0c32adc8-64f8-42aa-8504-7d6fec422abe"
      },
      "source": [
        "Clasificarea este o tehnică fundamentală în Machine Learning, utilizată pentru a încadra observațiile într-una dintre două sau mai multe categorii/clase. Este o problemă **supervizată**, ceea ce înseamnă că antrenăm modelul pe un set de date etichetat.\n",
        "\n",
        "**Exemple comune de clasificare:**\n",
        "- Clasificarea unui e-mail ca spam sau non-spam.\n",
        "- Diagnosticarea unei boli (malign vs benign).\n",
        "- Recunoașterea cifrelor sau literelor.\n",
        "\n",
        "---"
      ]
    },
    {
      "cell_type": "markdown",
      "id": "bf037c17-ba4f-4432-88a7-fc85591ac079",
      "metadata": {
        "tags": [],
        "id": "bf037c17-ba4f-4432-88a7-fc85591ac079"
      },
      "source": [
        "## 2. Clasificare vs. Regresie\n",
        "Ambele sunt metode de învățare supervizată, dar au scopuri diferite:\n",
        "- **Clasificarea**: Prevede o **etichetă** (categoriile sunt discrete). Exemplu: malign/benign.\n",
        "- **Regresia**: Prevede o **valoare numerică continuă**. Exemplu: prețul unei case.\n",
        "\n",
        "---"
      ]
    },
    {
      "cell_type": "markdown",
      "id": "797e8af6-939d-4c4d-95b3-c3e0db6055c8",
      "metadata": {
        "tags": [],
        "id": "797e8af6-939d-4c4d-95b3-c3e0db6055c8"
      },
      "source": [
        "## 3. Tipuri de clasificare\n",
        "1. **Clasificare binară**: Două clase (ex.: 0 și 1).\n",
        "   - Ex.: Diagnosticul cancerului: malign (0) sau benign (1).\n",
        "2. **Clasificare multi-clasă**: Mai multe clase (>2).\n",
        "   - Ex.: Clasificarea tipurilor de flori în setul de date Iris.\n",
        "3. **Clasificare multi-etichetă**: O observație poate aparține mai multor clase.\n",
        "   - Ex.: Etichetarea unui document cu mai multe categorii (ex.: sport, politică)."
      ]
    },
    {
      "cell_type": "markdown",
      "source": [
        "## 4. Problema propusa (Banknote Authentication)\n",
        "1. **Descriere**: Aceasta problema presupune indentifica intre bancnote autentice si bancnote falsificate plecand de la detalii despre bancnote\n",
        "2. **Detalii**: Ne vom uita la carecteristici ale imaginilor cu bancnote cum ar fi varianta, asimetrie, entropie\n",
        "3. **Raspunsul Final**: Vom incerca sa prezicem daca o bancnota este autentica(codificata prin valoarea 1) sau falsificata (codificata prin valoarea 0)"
      ],
      "metadata": {
        "id": "BMxNaSyTdLiK"
      },
      "id": "BMxNaSyTdLiK"
    },
    {
      "cell_type": "code",
      "source": [
        "import pandas as pd"
      ],
      "metadata": {
        "id": "xkrZC6lrdABM"
      },
      "id": "xkrZC6lrdABM",
      "execution_count": 2,
      "outputs": []
    },
    {
      "cell_type": "code",
      "source": [
        "# Încărcarea setului de date\n",
        "url = \"https://archive.ics.uci.edu/ml/machine-learning-databases/00267/data_banknote_authentication.txt\"\n",
        "col_names = [\"variance\", \"skewness\", \"curtosis\", \"entropy\", \"class\"]\n",
        "df = pd.read_csv(url, names=col_names)"
      ],
      "metadata": {
        "id": "5QXWJUmNdBIV"
      },
      "id": "5QXWJUmNdBIV",
      "execution_count": 3,
      "outputs": []
    },
    {
      "cell_type": "code",
      "source": [
        "df"
      ],
      "metadata": {
        "colab": {
          "base_uri": "https://localhost:8080/",
          "height": 423
        },
        "id": "jsRc-6fefvHa",
        "outputId": "3fd9d0c1-15a4-42aa-d1bf-3fdecd972f26"
      },
      "id": "jsRc-6fefvHa",
      "execution_count": 4,
      "outputs": [
        {
          "output_type": "execute_result",
          "data": {
            "text/plain": [
              "      variance  skewness  curtosis  entropy  class\n",
              "0      3.62160   8.66610   -2.8073 -0.44699      0\n",
              "1      4.54590   8.16740   -2.4586 -1.46210      0\n",
              "2      3.86600  -2.63830    1.9242  0.10645      0\n",
              "3      3.45660   9.52280   -4.0112 -3.59440      0\n",
              "4      0.32924  -4.45520    4.5718 -0.98880      0\n",
              "...        ...       ...       ...      ...    ...\n",
              "1367   0.40614   1.34920   -1.4501 -0.55949      1\n",
              "1368  -1.38870  -4.87730    6.4774  0.34179      1\n",
              "1369  -3.75030 -13.45860   17.5932 -2.77710      1\n",
              "1370  -3.56370  -8.38270   12.3930 -1.28230      1\n",
              "1371  -2.54190  -0.65804    2.6842  1.19520      1\n",
              "\n",
              "[1372 rows x 5 columns]"
            ],
            "text/html": [
              "\n",
              "  <div id=\"df-824ab01e-6e13-48e4-ba30-e72d2c4602f6\" class=\"colab-df-container\">\n",
              "    <div>\n",
              "<style scoped>\n",
              "    .dataframe tbody tr th:only-of-type {\n",
              "        vertical-align: middle;\n",
              "    }\n",
              "\n",
              "    .dataframe tbody tr th {\n",
              "        vertical-align: top;\n",
              "    }\n",
              "\n",
              "    .dataframe thead th {\n",
              "        text-align: right;\n",
              "    }\n",
              "</style>\n",
              "<table border=\"1\" class=\"dataframe\">\n",
              "  <thead>\n",
              "    <tr style=\"text-align: right;\">\n",
              "      <th></th>\n",
              "      <th>variance</th>\n",
              "      <th>skewness</th>\n",
              "      <th>curtosis</th>\n",
              "      <th>entropy</th>\n",
              "      <th>class</th>\n",
              "    </tr>\n",
              "  </thead>\n",
              "  <tbody>\n",
              "    <tr>\n",
              "      <th>0</th>\n",
              "      <td>3.62160</td>\n",
              "      <td>8.66610</td>\n",
              "      <td>-2.8073</td>\n",
              "      <td>-0.44699</td>\n",
              "      <td>0</td>\n",
              "    </tr>\n",
              "    <tr>\n",
              "      <th>1</th>\n",
              "      <td>4.54590</td>\n",
              "      <td>8.16740</td>\n",
              "      <td>-2.4586</td>\n",
              "      <td>-1.46210</td>\n",
              "      <td>0</td>\n",
              "    </tr>\n",
              "    <tr>\n",
              "      <th>2</th>\n",
              "      <td>3.86600</td>\n",
              "      <td>-2.63830</td>\n",
              "      <td>1.9242</td>\n",
              "      <td>0.10645</td>\n",
              "      <td>0</td>\n",
              "    </tr>\n",
              "    <tr>\n",
              "      <th>3</th>\n",
              "      <td>3.45660</td>\n",
              "      <td>9.52280</td>\n",
              "      <td>-4.0112</td>\n",
              "      <td>-3.59440</td>\n",
              "      <td>0</td>\n",
              "    </tr>\n",
              "    <tr>\n",
              "      <th>4</th>\n",
              "      <td>0.32924</td>\n",
              "      <td>-4.45520</td>\n",
              "      <td>4.5718</td>\n",
              "      <td>-0.98880</td>\n",
              "      <td>0</td>\n",
              "    </tr>\n",
              "    <tr>\n",
              "      <th>...</th>\n",
              "      <td>...</td>\n",
              "      <td>...</td>\n",
              "      <td>...</td>\n",
              "      <td>...</td>\n",
              "      <td>...</td>\n",
              "    </tr>\n",
              "    <tr>\n",
              "      <th>1367</th>\n",
              "      <td>0.40614</td>\n",
              "      <td>1.34920</td>\n",
              "      <td>-1.4501</td>\n",
              "      <td>-0.55949</td>\n",
              "      <td>1</td>\n",
              "    </tr>\n",
              "    <tr>\n",
              "      <th>1368</th>\n",
              "      <td>-1.38870</td>\n",
              "      <td>-4.87730</td>\n",
              "      <td>6.4774</td>\n",
              "      <td>0.34179</td>\n",
              "      <td>1</td>\n",
              "    </tr>\n",
              "    <tr>\n",
              "      <th>1369</th>\n",
              "      <td>-3.75030</td>\n",
              "      <td>-13.45860</td>\n",
              "      <td>17.5932</td>\n",
              "      <td>-2.77710</td>\n",
              "      <td>1</td>\n",
              "    </tr>\n",
              "    <tr>\n",
              "      <th>1370</th>\n",
              "      <td>-3.56370</td>\n",
              "      <td>-8.38270</td>\n",
              "      <td>12.3930</td>\n",
              "      <td>-1.28230</td>\n",
              "      <td>1</td>\n",
              "    </tr>\n",
              "    <tr>\n",
              "      <th>1371</th>\n",
              "      <td>-2.54190</td>\n",
              "      <td>-0.65804</td>\n",
              "      <td>2.6842</td>\n",
              "      <td>1.19520</td>\n",
              "      <td>1</td>\n",
              "    </tr>\n",
              "  </tbody>\n",
              "</table>\n",
              "<p>1372 rows × 5 columns</p>\n",
              "</div>\n",
              "    <div class=\"colab-df-buttons\">\n",
              "\n",
              "  <div class=\"colab-df-container\">\n",
              "    <button class=\"colab-df-convert\" onclick=\"convertToInteractive('df-824ab01e-6e13-48e4-ba30-e72d2c4602f6')\"\n",
              "            title=\"Convert this dataframe to an interactive table.\"\n",
              "            style=\"display:none;\">\n",
              "\n",
              "  <svg xmlns=\"http://www.w3.org/2000/svg\" height=\"24px\" viewBox=\"0 -960 960 960\">\n",
              "    <path d=\"M120-120v-720h720v720H120Zm60-500h600v-160H180v160Zm220 220h160v-160H400v160Zm0 220h160v-160H400v160ZM180-400h160v-160H180v160Zm440 0h160v-160H620v160ZM180-180h160v-160H180v160Zm440 0h160v-160H620v160Z\"/>\n",
              "  </svg>\n",
              "    </button>\n",
              "\n",
              "  <style>\n",
              "    .colab-df-container {\n",
              "      display:flex;\n",
              "      gap: 12px;\n",
              "    }\n",
              "\n",
              "    .colab-df-convert {\n",
              "      background-color: #E8F0FE;\n",
              "      border: none;\n",
              "      border-radius: 50%;\n",
              "      cursor: pointer;\n",
              "      display: none;\n",
              "      fill: #1967D2;\n",
              "      height: 32px;\n",
              "      padding: 0 0 0 0;\n",
              "      width: 32px;\n",
              "    }\n",
              "\n",
              "    .colab-df-convert:hover {\n",
              "      background-color: #E2EBFA;\n",
              "      box-shadow: 0px 1px 2px rgba(60, 64, 67, 0.3), 0px 1px 3px 1px rgba(60, 64, 67, 0.15);\n",
              "      fill: #174EA6;\n",
              "    }\n",
              "\n",
              "    .colab-df-buttons div {\n",
              "      margin-bottom: 4px;\n",
              "    }\n",
              "\n",
              "    [theme=dark] .colab-df-convert {\n",
              "      background-color: #3B4455;\n",
              "      fill: #D2E3FC;\n",
              "    }\n",
              "\n",
              "    [theme=dark] .colab-df-convert:hover {\n",
              "      background-color: #434B5C;\n",
              "      box-shadow: 0px 1px 3px 1px rgba(0, 0, 0, 0.15);\n",
              "      filter: drop-shadow(0px 1px 2px rgba(0, 0, 0, 0.3));\n",
              "      fill: #FFFFFF;\n",
              "    }\n",
              "  </style>\n",
              "\n",
              "    <script>\n",
              "      const buttonEl =\n",
              "        document.querySelector('#df-824ab01e-6e13-48e4-ba30-e72d2c4602f6 button.colab-df-convert');\n",
              "      buttonEl.style.display =\n",
              "        google.colab.kernel.accessAllowed ? 'block' : 'none';\n",
              "\n",
              "      async function convertToInteractive(key) {\n",
              "        const element = document.querySelector('#df-824ab01e-6e13-48e4-ba30-e72d2c4602f6');\n",
              "        const dataTable =\n",
              "          await google.colab.kernel.invokeFunction('convertToInteractive',\n",
              "                                                    [key], {});\n",
              "        if (!dataTable) return;\n",
              "\n",
              "        const docLinkHtml = 'Like what you see? Visit the ' +\n",
              "          '<a target=\"_blank\" href=https://colab.research.google.com/notebooks/data_table.ipynb>data table notebook</a>'\n",
              "          + ' to learn more about interactive tables.';\n",
              "        element.innerHTML = '';\n",
              "        dataTable['output_type'] = 'display_data';\n",
              "        await google.colab.output.renderOutput(dataTable, element);\n",
              "        const docLink = document.createElement('div');\n",
              "        docLink.innerHTML = docLinkHtml;\n",
              "        element.appendChild(docLink);\n",
              "      }\n",
              "    </script>\n",
              "  </div>\n",
              "\n",
              "\n",
              "<div id=\"df-8d99d767-172f-4042-bdf7-b10a26324109\">\n",
              "  <button class=\"colab-df-quickchart\" onclick=\"quickchart('df-8d99d767-172f-4042-bdf7-b10a26324109')\"\n",
              "            title=\"Suggest charts\"\n",
              "            style=\"display:none;\">\n",
              "\n",
              "<svg xmlns=\"http://www.w3.org/2000/svg\" height=\"24px\"viewBox=\"0 0 24 24\"\n",
              "     width=\"24px\">\n",
              "    <g>\n",
              "        <path d=\"M19 3H5c-1.1 0-2 .9-2 2v14c0 1.1.9 2 2 2h14c1.1 0 2-.9 2-2V5c0-1.1-.9-2-2-2zM9 17H7v-7h2v7zm4 0h-2V7h2v10zm4 0h-2v-4h2v4z\"/>\n",
              "    </g>\n",
              "</svg>\n",
              "  </button>\n",
              "\n",
              "<style>\n",
              "  .colab-df-quickchart {\n",
              "      --bg-color: #E8F0FE;\n",
              "      --fill-color: #1967D2;\n",
              "      --hover-bg-color: #E2EBFA;\n",
              "      --hover-fill-color: #174EA6;\n",
              "      --disabled-fill-color: #AAA;\n",
              "      --disabled-bg-color: #DDD;\n",
              "  }\n",
              "\n",
              "  [theme=dark] .colab-df-quickchart {\n",
              "      --bg-color: #3B4455;\n",
              "      --fill-color: #D2E3FC;\n",
              "      --hover-bg-color: #434B5C;\n",
              "      --hover-fill-color: #FFFFFF;\n",
              "      --disabled-bg-color: #3B4455;\n",
              "      --disabled-fill-color: #666;\n",
              "  }\n",
              "\n",
              "  .colab-df-quickchart {\n",
              "    background-color: var(--bg-color);\n",
              "    border: none;\n",
              "    border-radius: 50%;\n",
              "    cursor: pointer;\n",
              "    display: none;\n",
              "    fill: var(--fill-color);\n",
              "    height: 32px;\n",
              "    padding: 0;\n",
              "    width: 32px;\n",
              "  }\n",
              "\n",
              "  .colab-df-quickchart:hover {\n",
              "    background-color: var(--hover-bg-color);\n",
              "    box-shadow: 0 1px 2px rgba(60, 64, 67, 0.3), 0 1px 3px 1px rgba(60, 64, 67, 0.15);\n",
              "    fill: var(--button-hover-fill-color);\n",
              "  }\n",
              "\n",
              "  .colab-df-quickchart-complete:disabled,\n",
              "  .colab-df-quickchart-complete:disabled:hover {\n",
              "    background-color: var(--disabled-bg-color);\n",
              "    fill: var(--disabled-fill-color);\n",
              "    box-shadow: none;\n",
              "  }\n",
              "\n",
              "  .colab-df-spinner {\n",
              "    border: 2px solid var(--fill-color);\n",
              "    border-color: transparent;\n",
              "    border-bottom-color: var(--fill-color);\n",
              "    animation:\n",
              "      spin 1s steps(1) infinite;\n",
              "  }\n",
              "\n",
              "  @keyframes spin {\n",
              "    0% {\n",
              "      border-color: transparent;\n",
              "      border-bottom-color: var(--fill-color);\n",
              "      border-left-color: var(--fill-color);\n",
              "    }\n",
              "    20% {\n",
              "      border-color: transparent;\n",
              "      border-left-color: var(--fill-color);\n",
              "      border-top-color: var(--fill-color);\n",
              "    }\n",
              "    30% {\n",
              "      border-color: transparent;\n",
              "      border-left-color: var(--fill-color);\n",
              "      border-top-color: var(--fill-color);\n",
              "      border-right-color: var(--fill-color);\n",
              "    }\n",
              "    40% {\n",
              "      border-color: transparent;\n",
              "      border-right-color: var(--fill-color);\n",
              "      border-top-color: var(--fill-color);\n",
              "    }\n",
              "    60% {\n",
              "      border-color: transparent;\n",
              "      border-right-color: var(--fill-color);\n",
              "    }\n",
              "    80% {\n",
              "      border-color: transparent;\n",
              "      border-right-color: var(--fill-color);\n",
              "      border-bottom-color: var(--fill-color);\n",
              "    }\n",
              "    90% {\n",
              "      border-color: transparent;\n",
              "      border-bottom-color: var(--fill-color);\n",
              "    }\n",
              "  }\n",
              "</style>\n",
              "\n",
              "  <script>\n",
              "    async function quickchart(key) {\n",
              "      const quickchartButtonEl =\n",
              "        document.querySelector('#' + key + ' button');\n",
              "      quickchartButtonEl.disabled = true;  // To prevent multiple clicks.\n",
              "      quickchartButtonEl.classList.add('colab-df-spinner');\n",
              "      try {\n",
              "        const charts = await google.colab.kernel.invokeFunction(\n",
              "            'suggestCharts', [key], {});\n",
              "      } catch (error) {\n",
              "        console.error('Error during call to suggestCharts:', error);\n",
              "      }\n",
              "      quickchartButtonEl.classList.remove('colab-df-spinner');\n",
              "      quickchartButtonEl.classList.add('colab-df-quickchart-complete');\n",
              "    }\n",
              "    (() => {\n",
              "      let quickchartButtonEl =\n",
              "        document.querySelector('#df-8d99d767-172f-4042-bdf7-b10a26324109 button');\n",
              "      quickchartButtonEl.style.display =\n",
              "        google.colab.kernel.accessAllowed ? 'block' : 'none';\n",
              "    })();\n",
              "  </script>\n",
              "</div>\n",
              "\n",
              "  <div id=\"id_e4987602-33d9-447a-8549-c629bf8c5735\">\n",
              "    <style>\n",
              "      .colab-df-generate {\n",
              "        background-color: #E8F0FE;\n",
              "        border: none;\n",
              "        border-radius: 50%;\n",
              "        cursor: pointer;\n",
              "        display: none;\n",
              "        fill: #1967D2;\n",
              "        height: 32px;\n",
              "        padding: 0 0 0 0;\n",
              "        width: 32px;\n",
              "      }\n",
              "\n",
              "      .colab-df-generate:hover {\n",
              "        background-color: #E2EBFA;\n",
              "        box-shadow: 0px 1px 2px rgba(60, 64, 67, 0.3), 0px 1px 3px 1px rgba(60, 64, 67, 0.15);\n",
              "        fill: #174EA6;\n",
              "      }\n",
              "\n",
              "      [theme=dark] .colab-df-generate {\n",
              "        background-color: #3B4455;\n",
              "        fill: #D2E3FC;\n",
              "      }\n",
              "\n",
              "      [theme=dark] .colab-df-generate:hover {\n",
              "        background-color: #434B5C;\n",
              "        box-shadow: 0px 1px 3px 1px rgba(0, 0, 0, 0.15);\n",
              "        filter: drop-shadow(0px 1px 2px rgba(0, 0, 0, 0.3));\n",
              "        fill: #FFFFFF;\n",
              "      }\n",
              "    </style>\n",
              "    <button class=\"colab-df-generate\" onclick=\"generateWithVariable('df')\"\n",
              "            title=\"Generate code using this dataframe.\"\n",
              "            style=\"display:none;\">\n",
              "\n",
              "  <svg xmlns=\"http://www.w3.org/2000/svg\" height=\"24px\"viewBox=\"0 0 24 24\"\n",
              "       width=\"24px\">\n",
              "    <path d=\"M7,19H8.4L18.45,9,17,7.55,7,17.6ZM5,21V16.75L18.45,3.32a2,2,0,0,1,2.83,0l1.4,1.43a1.91,1.91,0,0,1,.58,1.4,1.91,1.91,0,0,1-.58,1.4L9.25,21ZM18.45,9,17,7.55Zm-12,3A5.31,5.31,0,0,0,4.9,8.1,5.31,5.31,0,0,0,1,6.5,5.31,5.31,0,0,0,4.9,4.9,5.31,5.31,0,0,0,6.5,1,5.31,5.31,0,0,0,8.1,4.9,5.31,5.31,0,0,0,12,6.5,5.46,5.46,0,0,0,6.5,12Z\"/>\n",
              "  </svg>\n",
              "    </button>\n",
              "    <script>\n",
              "      (() => {\n",
              "      const buttonEl =\n",
              "        document.querySelector('#id_e4987602-33d9-447a-8549-c629bf8c5735 button.colab-df-generate');\n",
              "      buttonEl.style.display =\n",
              "        google.colab.kernel.accessAllowed ? 'block' : 'none';\n",
              "\n",
              "      buttonEl.onclick = () => {\n",
              "        google.colab.notebook.generateWithVariable('df');\n",
              "      }\n",
              "      })();\n",
              "    </script>\n",
              "  </div>\n",
              "\n",
              "    </div>\n",
              "  </div>\n"
            ],
            "application/vnd.google.colaboratory.intrinsic+json": {
              "type": "dataframe",
              "variable_name": "df",
              "summary": "{\n  \"name\": \"df\",\n  \"rows\": 1372,\n  \"fields\": [\n    {\n      \"column\": \"variance\",\n      \"properties\": {\n        \"dtype\": \"number\",\n        \"std\": 2.842762586278562,\n        \"min\": -7.0421,\n        \"max\": 6.8248,\n        \"num_unique_values\": 1338,\n        \"samples\": [\n          -2.286,\n          -0.539,\n          0.89512\n        ],\n        \"semantic_type\": \"\",\n        \"description\": \"\"\n      }\n    },\n    {\n      \"column\": \"skewness\",\n      \"properties\": {\n        \"dtype\": \"number\",\n        \"std\": 5.869046743695522,\n        \"min\": -13.7731,\n        \"max\": 12.9516,\n        \"num_unique_values\": 1256,\n        \"samples\": [\n          11.2217,\n          -4.6145,\n          6.1499\n        ],\n        \"semantic_type\": \"\",\n        \"description\": \"\"\n      }\n    },\n    {\n      \"column\": \"curtosis\",\n      \"properties\": {\n        \"dtype\": \"number\",\n        \"std\": 4.310030090106595,\n        \"min\": -5.2861,\n        \"max\": 17.9274,\n        \"num_unique_values\": 1270,\n        \"samples\": [\n          7.8981,\n          9.8208,\n          0.20021\n        ],\n        \"semantic_type\": \"\",\n        \"description\": \"\"\n      }\n    },\n    {\n      \"column\": \"entropy\",\n      \"properties\": {\n        \"dtype\": \"number\",\n        \"std\": 2.1010131373596095,\n        \"min\": -8.5482,\n        \"max\": 2.4495,\n        \"num_unique_values\": 1156,\n        \"samples\": [\n          1.0271,\n          0.90946,\n          -0.026738\n        ],\n        \"semantic_type\": \"\",\n        \"description\": \"\"\n      }\n    },\n    {\n      \"column\": \"class\",\n      \"properties\": {\n        \"dtype\": \"number\",\n        \"std\": 0,\n        \"min\": 0,\n        \"max\": 1,\n        \"num_unique_values\": 2,\n        \"samples\": [\n          1,\n          0\n        ],\n        \"semantic_type\": \"\",\n        \"description\": \"\"\n      }\n    }\n  ]\n}"
            }
          },
          "metadata": {},
          "execution_count": 4
        }
      ]
    },
    {
      "cell_type": "markdown",
      "id": "186ad11a-e133-430f-8d18-2289b1391e49",
      "metadata": {
        "tags": [],
        "id": "186ad11a-e133-430f-8d18-2289b1391e49"
      },
      "source": [
        "# 2.Statistica traditionala: Regresia Liniară și Logistică"
      ]
    },
    {
      "cell_type": "markdown",
      "id": "2ef8462e-c18e-40ba-8ed3-7abdb59d2ff3",
      "metadata": {
        "tags": [],
        "id": "2ef8462e-c18e-40ba-8ed3-7abdb59d2ff3"
      },
      "source": [
        "## 1. Regresia Liniară\n",
        "Regresia liniară este o metodă care modelează relația dintre o variabilă dependentă (\\( y \\)) și una sau mai multe variabile independente (\\( X \\)) folosind o linie dreaptă:\n",
        "\\[\n",
        "y = wX + b\n",
        "\\]\n",
        "Unde:\n",
        "- \\( w \\): coeficientul de pantă.\n",
        "- \\( b \\): interceptul.\n",
        "\n",
        "**De ce nu este potrivită pentru clasificare?**\n",
        "- Regresia liniară produce valori continue (\\( y \\)) care pot fi interpretate greșit ca probabilități.\n",
        "- Nu este robustă în cazul datelor cu clase bine delimitate (ex.: 0 și 1)."
      ]
    },
    {
      "cell_type": "markdown",
      "id": "dd56d039-1b20-4030-bb4c-91f17d076e9d",
      "metadata": {
        "id": "dd56d039-1b20-4030-bb4c-91f17d076e9d"
      },
      "source": [
        "<img src=\"https://github.com/Oviis24/Banking-Univ-Introduction/blob/main/Imagini/Regresie_Liniara_Puncte.png?raw=1\" alt=\"Exemplu Regresie Puncte\" width=\"500\" />\n",
        "\n",
        "---\n",
        "\n",
        "<img src=\"https://github.com/Oviis24/Banking-Univ-Introduction/blob/main/Imagini/Regresie_Liniara.png?raw=1\" alt=\"Exemplu Regresie\" width=\"500\" />"
      ]
    },
    {
      "cell_type": "markdown",
      "id": "999fb39e-b52f-4c35-984d-303b12b3330d",
      "metadata": {
        "tags": [],
        "id": "999fb39e-b52f-4c35-984d-303b12b3330d"
      },
      "source": [
        "## 2. Regresia Logistică\n",
        "Regresia logistică este o extensie a regresiei liniare pentru clasificare. Utilizează o **funcție sigmoidă** pentru a comprima valorile continue între 0 și 1, astfel încât să poată fi interpretate ca probabilități:\n",
        "$$\n",
        "P(y=1|X) = \\frac{1}{1 + e^{-(wX + b)}}\n",
        "$$\n",
        "\n",
        "**Cum funcționează?**\n",
        "1. Aplică modelul liniar \\( wX + b \\).\n",
        "2. Introduce valoarea rezultată într-o funcție sigmoidă.\n",
        "3. Clasifică observațiile pe baza unui prag (de obicei \\( 0.5 \\)):\n",
        "   -\n",
        "$$\n",
        "P(y=1|X) \\geq 0.5 \\rightarrow \\text{Clasa 1 (Pozitivă)}\n",
        "$$\n",
        "   -  \n",
        "$$\n",
        "P(y=1|X) < 0.5 \\rightarrow \\text{Clasa 0 (Negativă)}\n",
        "$$"
      ]
    },
    {
      "cell_type": "markdown",
      "id": "2162006d-f949-4bf3-807d-bf791eed7543",
      "metadata": {
        "tags": [],
        "id": "2162006d-f949-4bf3-807d-bf791eed7543"
      },
      "source": [
        "<img src=\"https://github.com/Oviis24/Banking-Univ-Introduction/blob/main/Imagini/Regresie_Logistica.png?raw=1\" alt=\"Exemplu Regresie\" width=\"500\" />"
      ]
    },
    {
      "cell_type": "code",
      "execution_count": 5,
      "id": "a71a1713-b43d-4cdd-a62d-2bf21d11b74b",
      "metadata": {
        "tags": [],
        "id": "a71a1713-b43d-4cdd-a62d-2bf21d11b74b"
      },
      "outputs": [],
      "source": [
        "from sklearn.model_selection import train_test_split\n",
        "from sklearn.linear_model import LogisticRegression\n",
        "from sklearn.metrics import accuracy_score, confusion_matrix, classification_report\n",
        "\n",
        "X = df.drop(columns='class')\n",
        "y = df['class']\n",
        "\n",
        "# Împărțirea datelor în seturi de antrenare și testare\n",
        "X_train, X_test, y_train, y_test = train_test_split(X, y, test_size=0.3, random_state=42)\n"
      ]
    },
    {
      "cell_type": "code",
      "execution_count": 6,
      "id": "46a19525-fcb8-4211-aa8d-1819f9ff2d4d",
      "metadata": {
        "tags": [],
        "colab": {
          "base_uri": "https://localhost:8080/"
        },
        "id": "46a19525-fcb8-4211-aa8d-1819f9ff2d4d",
        "outputId": "86078f69-263f-4570-f0d0-5aa7f8cc5eff"
      },
      "outputs": [
        {
          "output_type": "stream",
          "name": "stdout",
          "text": [
            "Acuratețea regresiei logistice: 0.9878640776699029\n",
            "Matrice de confuzie:\n",
            " [[226   3]\n",
            " [  2 181]]\n",
            "Raport de clasificare:\n",
            "               precision    recall  f1-score   support\n",
            "\n",
            "           0       0.99      0.99      0.99       229\n",
            "           1       0.98      0.99      0.99       183\n",
            "\n",
            "    accuracy                           0.99       412\n",
            "   macro avg       0.99      0.99      0.99       412\n",
            "weighted avg       0.99      0.99      0.99       412\n",
            "\n"
          ]
        }
      ],
      "source": [
        "# Antrenarea regresiei logistice\n",
        "log_reg = LogisticRegression(max_iter=10000)\n",
        "log_reg.fit(X_train, y_train)\n",
        "\n",
        "# Predicții\n",
        "y_pred_log = log_reg.predict(X_test)\n",
        "\n",
        "# Evaluare\n",
        "print(\"Acuratețea regresiei logistice:\", accuracy_score(y_test, y_pred_log))\n",
        "print(\"Matrice de confuzie:\\n\", confusion_matrix(y_test, y_pred_log))\n",
        "print(\"Raport de clasificare:\\n\", classification_report(y_test, y_pred_log))\n"
      ]
    },
    {
      "cell_type": "markdown",
      "id": "4ae6328a-93e5-45eb-9675-25d0accb23a0",
      "metadata": {
        "id": "4ae6328a-93e5-45eb-9675-25d0accb23a0"
      },
      "source": [
        "## 3. Metrici de evaluare pentru clasificare"
      ]
    },
    {
      "cell_type": "markdown",
      "id": "765dfa7a-e5a2-41dd-a755-8746164ef871",
      "metadata": {
        "id": "765dfa7a-e5a2-41dd-a755-8746164ef871"
      },
      "source": [
        "## Metrici de evaluare pentru  clasificare\n",
        "\n",
        "### 1. Acuratețea (Accuracy)\n",
        "Acuratețea reprezintă proporția predicțiilor corecte din totalul observațiilor:\n",
        "\n",
        "$$\n",
        "\\text{Acuratețe} = \\frac{\\text{Număr predicții corecte}}{\\text{Număr total observații}}\n",
        "$$\n",
        "\n",
        "- **Avantaj:** Ușor de înțeles și aplicat.\n",
        "- **Limitare:** Nu este potrivită pentru seturi de date dezechilibrate (ex.: 95% clasa 0, 5% clasa 1).\n",
        "\n",
        "\n"
      ]
    },
    {
      "cell_type": "markdown",
      "id": "13e0840d-17de-4531-9a9e-6bd3da6144a8",
      "metadata": {
        "id": "13e0840d-17de-4531-9a9e-6bd3da6144a8"
      },
      "source": [
        "### 2. Matricea de Confuzie\n",
        "Matricea de confuzie arată numărul de predicții corecte și greșite, separate pe clase. Pentru clasificare binară, aceasta are următoarele componente:\n",
        "<br>\n",
        "\\\n",
        "\\begin{array}{|c|c|c|}\n",
        "\\hline\n",
        " & \\text{Clasa reală = 1} & \\text{Clasa reală = 0} \\\\\n",
        "\\hline\n",
        "\\text{Clasa prezisă = 1} & TP (\\text{true positive}) & FP (\\text{false positive}) \\\\\n",
        "\\hline\n",
        "\\text{Clasa prezisă = 0} & FN (\\text{false negative}) & TN (\\text{true negative}) \\\\\n",
        "\\hline\n",
        "\\end{array}\n",
        "\n",
        "\n",
        "- **TP**: Observații prezise corect ca pozitive.\n",
        "- **FP**: Observații prezise greșit ca pozitive.\n",
        "- **FN**: Observații pozitive ratate.\n",
        "- **TN**: Observații corect clasificate ca negative.\n",
        "\n",
        "---"
      ]
    },
    {
      "cell_type": "markdown",
      "id": "d2e26253-cff0-47b0-a478-e8ef7abefccd",
      "metadata": {
        "id": "d2e26253-cff0-47b0-a478-e8ef7abefccd"
      },
      "source": [
        "### 3. Precision, Recall și F1-Score\n",
        "\n",
        "#### **Precision (Precizia)**\n",
        "Proporția observațiilor prezise ca pozitive care sunt efectiv pozitive:\n",
        "\n",
        "$$\n",
        "\\text{Precision} = \\frac{\\text{TP}}{\\text{TP} + \\text{FP}}\n",
        "$$\n",
        "\n",
        "- **Avantaj:** Indică cât de \"sigur\" este modelul în predicțiile pozitive.\n",
        "\n",
        "\n",
        "---\n",
        "\n",
        "#### **Recall (Sensibilitate sau Rata de Detectare)**\n",
        "Proporția observațiilor pozitive care au fost corect clasificate:\n",
        "\n",
        "$$\n",
        "\\text{Recall} = \\frac{\\text{TP}}{\\text{TP} + \\text{FN}}\n",
        "$$\n",
        "\n",
        "- **Avantaj:** Măsoară abilitatea modelului de a detecta toate cazurile pozitive.\n",
        "\n",
        "\n",
        "---\n",
        "\n",
        "#### **F1-Score**\n",
        "Media armonică între Precision și Recall, oferind un echilibru între cele două:\n",
        "\n",
        "$$\n",
        "\\text{F1-Score} = 2 \\cdot \\frac{\\text{Precision} \\cdot \\text{Recall}}{\\text{Precision} + \\text{Recall}}\n",
        "$$\n",
        "\n",
        "- **Avantaj:** Este utilă când trebuie să balansezi între Precision și Recall.\n"
      ]
    },
    {
      "cell_type": "code",
      "source": [
        "log_reg = LogisticRegression(max_iter=10000, C=0.01, solvir='liblinear')\n",
        "log_reg.fit(X_train, y_train)\n",
        "\n",
        "# Predicții\n",
        "y_pred_log = log_reg.predict(X_test)\n",
        "\n",
        "# Evaluare\n",
        "print(\"Acuratețea regresiei logistice:\", accuracy_score(y_test, y_pred_log))\n",
        "print(\"Matrice de confuzie:\\n\", confusion_matrix(y_test, y_pred_log))\n",
        "print(\"Raport de clasificare:\\n\", classification_report(y_test, y_pred_log))\n",
        "\n"
      ],
      "metadata": {
        "id": "tkkWuMJ0KuLN",
        "outputId": "5d1907a4-b303-48dd-efd2-503697a7f382",
        "colab": {
          "base_uri": "https://localhost:8080/"
        }
      },
      "id": "tkkWuMJ0KuLN",
      "execution_count": 8,
      "outputs": [
        {
          "output_type": "stream",
          "name": "stdout",
          "text": [
            "Acuratețea regresiei logistice: 0.9733009708737864\n",
            "Matrice de confuzie:\n",
            " [[226   3]\n",
            " [  8 175]]\n",
            "Raport de clasificare:\n",
            "               precision    recall  f1-score   support\n",
            "\n",
            "           0       0.97      0.99      0.98       229\n",
            "           1       0.98      0.96      0.97       183\n",
            "\n",
            "    accuracy                           0.97       412\n",
            "   macro avg       0.97      0.97      0.97       412\n",
            "weighted avg       0.97      0.97      0.97       412\n",
            "\n"
          ]
        }
      ]
    },
    {
      "cell_type": "markdown",
      "id": "c4067e78-b914-49a0-b36f-0ea807f0d12b",
      "metadata": {
        "id": "c4067e78-b914-49a0-b36f-0ea807f0d12b"
      },
      "source": [
        "## 4. Decision Tree"
      ]
    },
    {
      "cell_type": "markdown",
      "id": "c83564c5-ed55-4fff-b628-75ab3f2a470b",
      "metadata": {
        "id": "c83564c5-ed55-4fff-b628-75ab3f2a470b"
      },
      "source": [
        "### 1. Ce este un arbore de decizie?\n",
        "Un arbore de decizie este un model care structurează datele într-o formă de arbore binar. Fiecare nod interior este o decizie bazată pe o caracteristică, iar fiecare frunză reprezintă o clasă.\n",
        "\n",
        "---"
      ]
    },
    {
      "cell_type": "markdown",
      "id": "31c93edb-8c84-4146-b3ac-29a0aee25993",
      "metadata": {
        "id": "31c93edb-8c84-4146-b3ac-29a0aee25993"
      },
      "source": [
        "### 2. Cum funcționează?\n",
        "1. **Divizare:** Se folosește un criteriu (ex.: Gini sau Entropie) pentru a împărți datele.\n",
        "2. **Măsuri:**\n",
        "   - **Gini Index:**<br>\n",
        "$$\n",
        "    Gini = 1 - \\sum_{i=1}^{n} p_i^2\n",
        "$$\n",
        "   - **Entropie:**\n",
        "$$\n",
        "     Entropie = -\\sum_{i=1}^{n} p_i \\cdot \\log_2(p_i)\n",
        "$$\n",
        "3. **Decizia finală:** Clasele sunt atribuite în funcție de frecvență.\n",
        "\n",
        "---"
      ]
    },
    {
      "cell_type": "markdown",
      "id": "2dd32cd0-c272-43d3-876f-f851de94715f",
      "metadata": {
        "id": "2dd32cd0-c272-43d3-876f-f851de94715f"
      },
      "source": [
        "### 3. Avantaje și dezavantaje\n",
        "| **Avantaje**                        | **Dezavantaje**                      |\n",
        "|-------------------------------------|--------------------------------------|\n",
        "| Ușor de înțeles și interpretat.     | Sensibil la suprapotrivire (overfitting). |\n",
        "| Necesită puțină preprocesare.       | Poate fi instabil pentru mici variații ale datelor. |\n",
        "| Poate gestiona atât date numerice, cât și categorice. | Mai puțin performant pe date complexe. |"
      ]
    },
    {
      "cell_type": "markdown",
      "id": "28db84b0-e661-4deb-a5b1-8f04a0200c02",
      "metadata": {
        "tags": [],
        "id": "28db84b0-e661-4deb-a5b1-8f04a0200c02"
      },
      "source": [
        "<img src=\"https://github.com/Oviis24/Banking-Univ-Introduction/blob/main/Imagini/Arbore_De_Decizie_Puncte.png?raw=1\" alt=\"Exemplu Regresie\" width=\"700\" />"
      ]
    },
    {
      "cell_type": "markdown",
      "id": "de4f93ea-aa8b-4532-b415-b6bad76902d6",
      "metadata": {
        "tags": [],
        "id": "de4f93ea-aa8b-4532-b415-b6bad76902d6"
      },
      "source": [
        "<img src=\"https://github.com/Oviis24/Banking-Univ-Introduction/blob/main/Imagini/Arbore_De_Decizie_Linii.png?raw=1\" alt=\"Exemplu Regresie\" width=\"700\" />"
      ]
    },
    {
      "cell_type": "code",
      "execution_count": 24,
      "id": "c49d7830-b3aa-4ba1-9dc0-0d5f9fa7df56",
      "metadata": {
        "tags": [],
        "colab": {
          "base_uri": "https://localhost:8080/"
        },
        "id": "c49d7830-b3aa-4ba1-9dc0-0d5f9fa7df56",
        "outputId": "67da4a26-bd42-4165-bbe7-12a41bb7e027"
      },
      "outputs": [
        {
          "output_type": "stream",
          "name": "stdout",
          "text": [
            "Matricea de Confuzie:\n",
            " [[224   5]\n",
            " [ 18 165]]\n",
            "Raport de Clasificare:\n",
            "               precision    recall  f1-score   support\n",
            "\n",
            "           0       0.93      0.98      0.95       229\n",
            "           1       0.97      0.90      0.93       183\n",
            "\n",
            "    accuracy                           0.94       412\n",
            "   macro avg       0.95      0.94      0.94       412\n",
            "weighted avg       0.95      0.94      0.94       412\n",
            "\n"
          ]
        }
      ],
      "source": [
        "from sklearn.tree import DecisionTreeClassifier\n",
        "\n",
        "# Crearea și antrenarea modelului\n",
        "tree_clf = DecisionTreeClassifier(criterion=\"gini\", max_depth=4, random_state=42)\n",
        "tree_clf.fit(X_train, y_train)\n",
        "\n",
        "# Predicții\n",
        "y_pred = tree_clf.predict(X_test)\n",
        "\n",
        "# Evaluare\n",
        "print(\"Matricea de Confuzie:\\n\", confusion_matrix(y_test, y_pred))\n",
        "print(\"Raport de Clasificare:\\n\", classification_report(y_test, y_pred))\n"
      ]
    },
    {
      "cell_type": "code",
      "source": [
        "# prompt: vreau un cod care pentru un copac antrenat in tree_clf sa il afisam ca imagine si sa ne uitam la el\n",
        "\n",
        "from sklearn.tree import plot_tree\n",
        "import matplotlib.pyplot as plt\n",
        "\n",
        "plt.figure(figsize=(15, 10))\n",
        "plot_tree(tree_clf, filled=True, feature_names=X.columns, class_names=['0', '1'])\n",
        "plt.show()\n"
      ],
      "metadata": {
        "id": "juT8VojZl8Gt",
        "outputId": "17bc9be9-3da1-4a14-e203-de4ddec7033d",
        "colab": {
          "base_uri": "https://localhost:8080/",
          "height": 807
        }
      },
      "id": "juT8VojZl8Gt",
      "execution_count": 21,
      "outputs": [
        {
          "output_type": "display_data",
          "data": {
            "text/plain": [
              "<Figure size 1500x1000 with 1 Axes>"
            ],
            "image/png": "[encoded data removed]"
          },
          "metadata": {}
        }
      ]
    },
    {
      "cell_type": "markdown",
      "id": "d5056b7f-0aa6-4a47-90fb-057624d0e696",
      "metadata": {
        "id": "d5056b7f-0aa6-4a47-90fb-057624d0e696"
      },
      "source": [
        "## 5. Random Forest"
      ]
    },
    {
      "cell_type": "markdown",
      "id": "6c380efb-1649-4b1b-9385-439f86b6d0fe",
      "metadata": {
        "id": "6c380efb-1649-4b1b-9385-439f86b6d0fe"
      },
      "source": [
        "### 1. Ce este Random Forest?\n",
        "Random Forest este un algoritm de tip **ensemble** care construiește mai mulți arbori de decizie și combină predicțiile acestora. Funcționează prin metoda **bagging**:\n",
        "1. Fiecare arbore primește un subset diferit al datelor.\n",
        "2. Predicția finală se bazează pe **votul majoritar** (clasificare) sau **media** (regresie).\n",
        "\n"
      ]
    },
    {
      "cell_type": "markdown",
      "id": "e563ee38-fb3e-427d-bc95-be8e9b2dc0fe",
      "metadata": {
        "id": "e563ee38-fb3e-427d-bc95-be8e9b2dc0fe"
      },
      "source": [
        "### 2. Cum funcționează?\n",
        "1. **Bootstrap sampling**: Fiecare arbore este antrenat pe un subset aleatoriu de observații.\n",
        "2. **Împărțiri aleatorii**: La fiecare nod, se selectează un subset aleatoriu de caracteristici.\n",
        "3. **Agregare**:\n",
        "   - Clasificare: Votează clasa majoritară.\n",
        "   - Regresie: Media predicțiilor tuturor arborilor.\n",
        "\n"
      ]
    },
    {
      "cell_type": "markdown",
      "id": "5d1a0cc5-a949-497c-8d4b-9efc674a9dd8",
      "metadata": {
        "id": "5d1a0cc5-a949-497c-8d4b-9efc674a9dd8"
      },
      "source": [
        "### 3. Avantaje și dezavantaje\n",
        "\n",
        "| **Avantaje**                             | **Dezavantaje**                           |\n",
        "|------------------------------------------|-------------------------------------------|\n",
        "| Reduce suprapotrivirea (overfitting).    | Mai lent față de un singur arbore.         |\n",
        "| Poate gestiona seturi de date complexe.  | Mai dificil de interpretat decât un singur arbore. |\n",
        "| Robustețe crescută la date zgomotoase.   | Necesită mai multe resurse computaționale. |"
      ]
    },
    {
      "cell_type": "code",
      "execution_count": 22,
      "id": "693b258a-80bb-40d9-82c8-f7985a8ee97d",
      "metadata": {
        "tags": [],
        "colab": {
          "base_uri": "https://localhost:8080/"
        },
        "id": "693b258a-80bb-40d9-82c8-f7985a8ee97d",
        "outputId": "d4c6a8a5-b343-475c-cb3f-d52987c1bf95"
      },
      "outputs": [
        {
          "output_type": "stream",
          "name": "stdout",
          "text": [
            "Matricea de Confuzie:\n",
            " [[223   6]\n",
            " [ 14 169]]\n",
            "Raport de Clasificare:\n",
            "               precision    recall  f1-score   support\n",
            "\n",
            "           0       0.94      0.97      0.96       229\n",
            "           1       0.97      0.92      0.94       183\n",
            "\n",
            "    accuracy                           0.95       412\n",
            "   macro avg       0.95      0.95      0.95       412\n",
            "weighted avg       0.95      0.95      0.95       412\n",
            "\n"
          ]
        }
      ],
      "source": [
        "from sklearn.ensemble import RandomForestClassifier\n",
        "\n",
        "# Crearea și antrenarea modelului Random Forest\n",
        "rf_clf = RandomForestClassifier(n_estimators=20, max_depth=3, random_state=42)\n",
        "rf_clf.fit(X_train, y_train)\n",
        "\n",
        "# Predicții\n",
        "y_pred = rf_clf.predict(X_test)\n",
        "\n",
        "# Evaluare\n",
        "print(\"Matricea de Confuzie:\\n\", confusion_matrix(y_test, y_pred))\n",
        "print(\"Raport de Clasificare:\\n\", classification_report(y_test, y_pred))\n"
      ]
    }
  ],
  "metadata": {
    "kernelspec": {
      "display_name": "Python 3 (ipykernel)",
      "language": "python",
      "name": "python3"
    },
    "language_info": {
      "codemirror_mode": {
        "name": "ipython",
        "version": 3
      },
      "file_extension": ".py",
      "mimetype": "text/x-python",
      "name": "python",
      "nbconvert_exporter": "python",
      "pygments_lexer": "ipython3",
      "version": "3.8.5"
    },
    "colab": {
      "provenance": []
    }
  },
  "nbformat": 4,
  "nbformat_minor": 5
}